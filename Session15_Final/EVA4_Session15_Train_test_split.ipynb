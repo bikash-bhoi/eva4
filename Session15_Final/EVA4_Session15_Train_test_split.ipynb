{
  "nbformat": 4,
  "nbformat_minor": 0,
  "metadata": {
    "colab": {
      "name": "EVA4_Session15_Train_test_split.ipynb",
      "provenance": [],
      "collapsed_sections": [],
      "include_colab_link": true
    },
    "kernelspec": {
      "name": "python3",
      "display_name": "Python 3"
    },
    "accelerator": "GPU"
  },
  "cells": [
    {
      "cell_type": "markdown",
      "metadata": {
        "id": "view-in-github",
        "colab_type": "text"
      },
      "source": [
        "<a href=\"https://colab.research.google.com/github/bikash-bhoi/eva4/blob/master/Session15_Final/EVA4_Session15_Train_test_split.ipynb\" target=\"_parent\"><img src=\"https://colab.research.google.com/assets/colab-badge.svg\" alt=\"Open In Colab\"/></a>"
      ]
    },
    {
      "cell_type": "code",
      "metadata": {
        "id": "ZUUzrJ7Cia92",
        "colab_type": "code",
        "colab": {}
      },
      "source": [
        "from glob import glob\n",
        "import re\n",
        "import os, cv2\n",
        "from fnmatch import fnmatch\n",
        "import shutil\n",
        "import numpy as np\n",
        "from tqdm import tqdm\n",
        "import pandas as pd\n",
        "from sklearn.model_selection import train_test_split\n",
        "import torch\n",
        "import matplotlib.pyplot as plt"
      ],
      "execution_count": 0,
      "outputs": []
    },
    {
      "cell_type": "code",
      "metadata": {
        "id": "uaeWV1TxGndh",
        "colab_type": "code",
        "outputId": "4aab32dd-28a8-40a8-c66a-e0c498304d75",
        "colab": {
          "base_uri": "https://localhost:8080/",
          "height": 125
        }
      },
      "source": [
        "from google.colab import drive\n",
        "drive.mount('/content/drive',force_remount=True)"
      ],
      "execution_count": 0,
      "outputs": [
        {
          "output_type": "stream",
          "text": [
            "Go to this URL in a browser: https://accounts.google.com/o/oauth2/auth?client_id=947318989803-6bn6qk8qdgf4n4g3pfee6491hc0brc4i.apps.googleusercontent.com&redirect_uri=urn%3aietf%3awg%3aoauth%3a2.0%3aoob&response_type=code&scope=email%20https%3a%2f%2fwww.googleapis.com%2fauth%2fdocs.test%20https%3a%2f%2fwww.googleapis.com%2fauth%2fdrive%20https%3a%2f%2fwww.googleapis.com%2fauth%2fdrive.photos.readonly%20https%3a%2f%2fwww.googleapis.com%2fauth%2fpeopleapi.readonly\n",
            "\n",
            "Enter your authorization code:\n",
            "··········\n",
            "Mounted at /content/drive\n"
          ],
          "name": "stdout"
        }
      ]
    },
    {
      "cell_type": "code",
      "metadata": {
        "id": "F_dApR2fiwjH",
        "colab_type": "code",
        "outputId": "d93fc9cd-2bd2-4148-f8d9-dfc20bffe87d",
        "colab": {
          "base_uri": "https://localhost:8080/",
          "height": 194
        }
      },
      "source": [
        "\n",
        "%%bash\n",
        "unzip -d /content/Data /content/drive/My\\ Drive/RCNN/fg_bg.zip\n",
        "unzip -d /content/Data /content/drive/My\\ Drive/RCNN/Depth_output.zip"
      ],
      "execution_count": 0,
      "outputs": [
        {
          "output_type": "stream",
          "text": [
            "IOPub data rate exceeded.\n",
            "The notebook server will temporarily stop sending output\n",
            "to the client in order to avoid crashing it.\n",
            "To change this limit, set the config variable\n",
            "`--NotebookApp.iopub_data_rate_limit`.\n",
            "\n",
            "Current values:\n",
            "NotebookApp.iopub_data_rate_limit=1000000.0 (bytes/sec)\n",
            "NotebookApp.rate_limit_window=3.0 (secs)\n",
            "\n"
          ],
          "name": "stderr"
        }
      ]
    },
    {
      "cell_type": "code",
      "metadata": {
        "id": "6RII5EFTEokH",
        "colab_type": "code",
        "outputId": "77cde535-de2a-4733-d188-cdf7d89fa9b0",
        "colab": {
          "base_uri": "https://localhost:8080/",
          "height": 34
        }
      },
      "source": [
        "!mkdir /content/Data/Mask_RCNN/Depth_output\n",
        "source = '/content/Data/content/Mask_RCNN/Depth_output/'\n",
        "dest1 = '/content/Data/Mask_RCNN/Depth_output/'\n",
        "\n",
        "files = os.listdir(source)\n",
        "\n",
        "for f in tqdm(files):\n",
        "    shutil.move(source+f, dest1)"
      ],
      "execution_count": 0,
      "outputs": [
        {
          "output_type": "stream",
          "text": [
            "100%|██████████| 424320/424320 [00:15<00:00, 27107.54it/s]\n"
          ],
          "name": "stderr"
        }
      ]
    },
    {
      "cell_type": "code",
      "metadata": {
        "id": "io2Q9MW9F2ke",
        "colab_type": "code",
        "colab": {}
      },
      "source": [
        "!cp /content/drive/My\\ Drive/RCNN/test*.csv  /content/Data/Mask_RCNN\n",
        "!cp /content/drive/My\\ Drive/RCNN/train.csv  /content/Data/Mask_RCNN\n",
        "!mkdir Dense_Depth\n",
        "!cp -r /content/drive/My\\ Drive/Dense_Depth/*  /content/Dense_Depth/\n",
        "!cp /content/drive/My\\ Drive/RCNN/model_resnet Dense_Depth/pretrained_model/model_resnet\n",
        "!cp /content/drive/My\\ Drive/mask_save Dense_Depth/pretrained_model/mask_save"
      ],
      "execution_count": 0,
      "outputs": []
    },
    {
      "cell_type": "code",
      "metadata": {
        "id": "NzDXaOPRDq2C",
        "colab_type": "code",
        "outputId": "0a0b60ec-1674-4e33-89ac-111caff65b50",
        "colab": {
          "base_uri": "https://localhost:8080/",
          "height": 34
        }
      },
      "source": [
        "len(os.listdir('/content/Data/Mask_RCNN/fg_bg')),len(os.listdir('/content/Data/Mask_RCNN/Depth_output'))\n"
      ],
      "execution_count": 0,
      "outputs": [
        {
          "output_type": "execute_result",
          "data": {
            "text/plain": [
              "(424320, 424320)"
            ]
          },
          "metadata": {
            "tags": []
          },
          "execution_count": 7
        }
      ]
    },
    {
      "cell_type": "code",
      "metadata": {
        "id": "xrxnBMHS7cdB",
        "colab_type": "code",
        "colab": {}
      },
      "source": [
        "image_names= pd.DataFrame(os.listdir('/content/Data/Mask_RCNN/fg_bg/'),os.listdir('/content/Data/Mask_RCNN/Depth_output/'))\n",
        "image_names.reset_index(inplace=True)\n",
        "image_names.columns=['input_path', 'depth_path']\n",
        "image_names.head()"
      ],
      "execution_count": 0,
      "outputs": []
    },
    {
      "cell_type": "code",
      "metadata": {
        "id": "XUM5aoQLDW2c",
        "colab_type": "code",
        "colab": {}
      },
      "source": [
        "image_names['depth_path']='/content/Data/Mask_RCNN/Depth_output/'+image_names['depth_path']\n",
        "image_names['input_path']='/content/Data/Mask_RCNN/fg_bg/'+image_names['input_path']\n",
        "image_names.head()"
      ],
      "execution_count": 0,
      "outputs": []
    },
    {
      "cell_type": "code",
      "metadata": {
        "id": "mHWdL93c8aya",
        "colab_type": "code",
        "colab": {}
      },
      "source": [
        "train_names, test_names=train_test_split(image_names, test_size=0.2, random_state=42)\n",
        "train_names.shape, test_names.shape\n",
        "train_names.to_csv('train.csv',index=False)\n",
        "test_names.to_csv('test.csv',index=False)"
      ],
      "execution_count": 0,
      "outputs": []
    },
    {
      "cell_type": "code",
      "metadata": {
        "id": "o1-RHtA-9Fwc",
        "colab_type": "code",
        "outputId": "29329d5c-7fc3-4efd-e6b2-abbd48f7794c",
        "colab": {
          "base_uri": "https://localhost:8080/",
          "height": 34
        }
      },
      "source": [
        "train_names.shape, test_names.shape"
      ],
      "execution_count": 0,
      "outputs": [
        {
          "output_type": "execute_result",
          "data": {
            "text/plain": [
              "((339456, 2), (84864, 2))"
            ]
          },
          "metadata": {
            "tags": []
          },
          "execution_count": 35
        }
      ]
    },
    {
      "cell_type": "code",
      "metadata": {
        "id": "MsJ9ek8a-Ru9",
        "colab_type": "code",
        "colab": {}
      },
      "source": [
        "!cp /content/test.csv /content/drive/My\\ Drive/RCNN\n",
        "!cp /content/train.csv /content/drive/My\\ Drive/RCNN"
      ],
      "execution_count": 0,
      "outputs": []
    }
  ]
}