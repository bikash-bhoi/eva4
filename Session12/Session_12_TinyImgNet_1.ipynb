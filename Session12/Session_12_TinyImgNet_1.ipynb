{
  "nbformat": 4,
  "nbformat_minor": 0,
  "metadata": {
    "colab": {
      "name": "Session_12_TinyImgNet_1.ipynb",
      "provenance": [],
      "collapsed_sections": [],
      "include_colab_link": true
    },
    "kernelspec": {
      "name": "python3",
      "display_name": "Python 3"
    },
    "accelerator": "GPU"
  },
  "cells": [
    {
      "cell_type": "markdown",
      "metadata": {
        "id": "view-in-github",
        "colab_type": "text"
      },
      "source": [
        "<a href=\"https://colab.research.google.com/github/bikash-bhoi/eva4/blob/master/Session12/Session_12_TinyImgNet_1.ipynb\" target=\"_parent\"><img src=\"https://colab.research.google.com/assets/colab-badge.svg\" alt=\"Open In Colab\"/></a>"
      ]
    },
    {
      "cell_type": "markdown",
      "metadata": {
        "id": "zwcC29-mHU7H",
        "colab_type": "text"
      },
      "source": [
        ""
      ]
    },
    {
      "cell_type": "code",
      "metadata": {
        "id": "-g7ee78QSLcf",
        "colab_type": "code",
        "outputId": "b59d8d44-b725-4f65-c180-272237dbd8d8",
        "colab": {
          "base_uri": "https://localhost:8080/",
          "height": 34
        }
      },
      "source": [
        "##Clone Github Directory to import packages\n",
        "%%bash\n",
        "mkdir temp\n",
        "git clone https://github.com/bikash-bhoi/eva4.git temp\n",
        "if [ ! -d ./models ]; then\n",
        "    mkdir models\n",
        "fi\n",
        "if [ ! -d ./utils ]; then\n",
        "    mkdir utils\n",
        "fi\n",
        "cp -r temp/models/* ./models\n",
        "cp -r temp/utils/* ./utils\n",
        "rm -rf temp"
      ],
      "execution_count": 1,
      "outputs": [
        {
          "output_type": "stream",
          "text": [
            "Cloning into 'temp'...\n"
          ],
          "name": "stderr"
        }
      ]
    },
    {
      "cell_type": "code",
      "metadata": {
        "id": "f5jmWLvznBDR",
        "colab_type": "code",
        "colab": {}
      },
      "source": [
        "#!pip install pytorch-gradcam\n",
        "!pip install albumentations\n",
        "!pip install livelossplot\n",
        "#!pip install --no-cache-dir git+https://github.com/NVIDIA/apex"
      ],
      "execution_count": 0,
      "outputs": []
    },
    {
      "cell_type": "code",
      "metadata": {
        "id": "QAMhoRfM-4nX",
        "colab_type": "code",
        "colab": {}
      },
      "source": [
        "#from utils.download_load import download_load\n",
        "#from utils.display_imgs import display_imgs\n",
        "from utils.train_test import train , test, predict, get_misclassified\n",
        "from utils.disp_summary import disp_summary\n",
        "#from utils.gradcam import grad_cam, gradcam_plot\n",
        "from models.resnet import ResNet18,ResNet\n",
        "from utils.range_test import lr_range_test\n",
        "from utils.train_model import train_model\n",
        "#from utils.zig_zag_plot import zigzag_plot\n",
        "\n",
        "import torch.optim as optim\n",
        "from torch.optim.lr_scheduler import ReduceLROnPlateau, OneCycleLR\n",
        "import torch.nn as nn\n",
        "import torch.nn.functional as F\n",
        "import torch.optim as optim\n",
        "from torchvision import datasets, transforms\n",
        "import matplotlib.pyplot as plt\n",
        "import numpy as np\n",
        "import torchvision\n",
        "import torchsummary\n",
        "from torchsummary import summary\n",
        "import torch,os\n",
        "import torch.utils.data as data\n",
        "from torch.utils.data import Dataset\n",
        "import random\n",
        "from skimage import io"
      ],
      "execution_count": 0,
      "outputs": []
    },
    {
      "cell_type": "code",
      "metadata": {
        "id": "Tj2uhhjFKcM9",
        "colab_type": "code",
        "colab": {}
      },
      "source": [
        "!rm -rf /content/tiny-imagenet-200"
      ],
      "execution_count": 0,
      "outputs": []
    },
    {
      "cell_type": "code",
      "metadata": {
        "id": "GI_r1Qto8Tc_",
        "colab_type": "code",
        "outputId": "67da3e99-e96b-4a53-9963-1c22fa79c897",
        "colab": {
          "base_uri": "https://localhost:8080/",
          "height": 122
        }
      },
      "source": [
        "from google.colab import drive\n",
        "drive.mount('/content/gdrive',force_remount=True)\n",
        "#!rm -rf /content/tiny-imagenet-200\n",
        "!unzip -q \"/content/gdrive/My Drive/tiny-imagenet-200.zip\"\n"
      ],
      "execution_count": 4,
      "outputs": [
        {
          "output_type": "stream",
          "text": [
            "Go to this URL in a browser: https://accounts.google.com/o/oauth2/auth?client_id=947318989803-6bn6qk8qdgf4n4g3pfee6491hc0brc4i.apps.googleusercontent.com&redirect_uri=urn%3aietf%3awg%3aoauth%3a2.0%3aoob&response_type=code&scope=email%20https%3a%2f%2fwww.googleapis.com%2fauth%2fdocs.test%20https%3a%2f%2fwww.googleapis.com%2fauth%2fdrive%20https%3a%2f%2fwww.googleapis.com%2fauth%2fdrive.photos.readonly%20https%3a%2f%2fwww.googleapis.com%2fauth%2fpeopleapi.readonly\n",
            "\n",
            "Enter your authorization code:\n",
            "··········\n",
            "Mounted at /content/gdrive\n"
          ],
          "name": "stdout"
        }
      ]
    },
    {
      "cell_type": "code",
      "metadata": {
        "id": "San8jCXJ5V8w",
        "colab_type": "code",
        "colab": {}
      },
      "source": [
        "import albumentations\n",
        "from albumentations import *\n",
        "from albumentations import Compose\n",
        "from albumentations.pytorch import ToTensor\n",
        "import numpy as np\n",
        "import cv2\n",
        "\n",
        "means = (0.48043839, 0.44820218, 0.39760034)\n",
        "stds = (0.27698959, 0.26908774, 0.28216029)\n",
        "class TrainAlbumentation():\n",
        "\tdef __init__(self):\n",
        "\t\tself.train_trans = Compose([\n",
        "\t\t\t\t\t\t\tPadIfNeeded(min_height=80, min_width=80, border_mode=cv2.BORDER_CONSTANT, value=np.array(means)*255),\n",
        "\t\t\t\t\t\t\tRandomCrop(64,64, always_apply=True),\n",
        "\t\t\t\t\t\t\tRotate((-25.0, 25.0)),\n",
        "\t\t\t\t\t\t\tHorizontalFlip(),\n",
        "\t\t\t\t\t\t\tRGBShift(r_shift_limit=40, g_shift_limit=40, b_shift_limit=40, p=0.5),\n",
        "\t\t\t\t\t\t\tNormalize(mean=means, std=stds),\n",
        "\t\t\t\t\t\t\tCutout(num_holes=4, max_h_size=24, max_w_size=24) ,\n",
        "\t\t\t\t\t\t\tToTensor()\n",
        "\t\t\t\t\t\t\t])\n",
        "\n",
        "\tdef __call__(self, im):\n",
        "\t\tim = np.array(im)\n",
        "\t\tim = self.train_trans(image = im)['image']\n",
        "\t\treturn im\n",
        " \n",
        "class TestAlbumentation():\n",
        "\tdef __init__(self):\n",
        "\t\tself.train_trans = Compose([Normalize(mean=means, std=stds), ToTensor()])\n",
        "\n",
        "\tdef __call__(self, im):\n",
        "\t\tim = np.array(im)\n",
        "\t\tim = self.train_trans(image = im)['image']\n",
        "\t\treturn im"
      ],
      "execution_count": 0,
      "outputs": []
    },
    {
      "cell_type": "code",
      "metadata": {
        "id": "soN156J5FBoZ",
        "colab_type": "code",
        "colab": {}
      },
      "source": [
        "import random\n",
        "from torch.utils.data import SubsetRandomSampler\n",
        "import torch\n",
        "import torchvision.datasets as datasets\n",
        "import torch.utils.data as data\n",
        "import torchvision.transforms as transforms\n",
        "\n",
        "\n",
        "transform_train = TrainAlbumentation()\n",
        "transform_val = TestAlbumentation()\n",
        "\n",
        "train_dir = '/content/tiny-imagenet-200/train'\n",
        "train_dataset = datasets.ImageFolder(train_dir, transform=transform_train)\n",
        "test_dataset = datasets.ImageFolder(train_dir, transform=transform_val)\n",
        "\n",
        "\n",
        "VAL_SPLIT_RATIO=0.3\n",
        "train_bs =512\n",
        "test_bs =512\n",
        "num_workers=1\n",
        "\n",
        "num_train = len(train_dataset)\n",
        "indices = list(range(num_train))\n",
        "split = int(np.floor(VAL_SPLIT_RATIO * num_train))\n",
        "\n",
        "\n",
        "np.random.seed(1)\n",
        "np.random.shuffle(indices)\n",
        "\n",
        "train_idx, test_idx = indices[split:], indices[:split]\n",
        "train_sampler = SubsetRandomSampler(train_idx)\n",
        "test_sampler = SubsetRandomSampler(test_idx)\n",
        "cuda = torch.cuda.is_available()\n",
        "trainoader_args = dict(batch_size=train_bs, num_workers=4, sampler=train_sampler, pin_memory=True) if cuda else dict(shuffle=True, batch_size=64)\n",
        "testloader_args = dict(batch_size=test_bs, num_workers=4, sampler=test_sampler, pin_memory=True) if cuda else dict(shuffle=True, batch_size=64)\n",
        "\n",
        "train_loader = torch.utils.data.DataLoader(train_dataset , **trainoader_args)\n",
        "test_loader = torch.utils.data.DataLoader(test_dataset , **testloader_args)"
      ],
      "execution_count": 0,
      "outputs": []
    },
    {
      "cell_type": "code",
      "metadata": {
        "colab_type": "code",
        "outputId": "67fdb2bb-2730-458a-b635-69e532d1b715",
        "id": "-AFV_xRyU0L5",
        "colab": {
          "base_uri": "https://localhost:8080/",
          "height": 34
        }
      },
      "source": [
        "len(next(iter(test_loader))[0])"
      ],
      "execution_count": 22,
      "outputs": [
        {
          "output_type": "execute_result",
          "data": {
            "text/plain": [
              "512"
            ]
          },
          "metadata": {
            "tags": []
          },
          "execution_count": 22
        }
      ]
    },
    {
      "cell_type": "code",
      "metadata": {
        "id": "Zm4qFq1mvoa4",
        "colab_type": "code",
        "colab": {}
      },
      "source": [
        ""
      ],
      "execution_count": 0,
      "outputs": []
    },
    {
      "cell_type": "code",
      "metadata": {
        "id": "7Ays4k29NzQT",
        "colab_type": "code",
        "colab": {}
      },
      "source": [
        "#import torchvision.models as models\n",
        "#model = models.resnet18()\n",
        "#Finetune Final few layers to adjust for tiny imagenet input\n",
        "#model.conv1 = nn.Conv2d(3,64, kernel_size=(3,3), stride=(1,1), padding=(1,1), bias=False)\n",
        "#model.maxpool = nn.Sequential()\n",
        "#model.avgpool = nn.AdaptiveAvgPool2d(1)\n",
        "#model.fc.out_features = 200\n",
        "\n",
        "model=ResNet18(200)\n",
        "model.avgpool = nn.AdaptiveAvgPool2d(1)\n",
        "\n",
        "use_cuda= torch.cuda.is_available()\n",
        "device=torch.device('cuda' if use_cuda else 'cpu')\n",
        "model=model.to(device)"
      ],
      "execution_count": 0,
      "outputs": []
    },
    {
      "cell_type": "code",
      "metadata": {
        "id": "-f6-gJxyOM7t",
        "colab_type": "code",
        "outputId": "17e28791-d5ce-4e9d-a9e9-3c88d6e5427d",
        "colab": {
          "base_uri": "https://localhost:8080/",
          "height": 1000
        }
      },
      "source": [
        "disp_summary(model,[3,64,64])"
      ],
      "execution_count": 6,
      "outputs": [
        {
          "output_type": "stream",
          "text": [
            "----------------------------------------------------------------\n",
            "        Layer (type)               Output Shape         Param #\n",
            "================================================================\n",
            "            Conv2d-1           [-1, 64, 64, 64]           1,728\n",
            "       BatchNorm2d-2           [-1, 64, 64, 64]             128\n",
            "         Dropout2d-3           [-1, 64, 64, 64]               0\n",
            "            Conv2d-4           [-1, 64, 64, 64]          36,864\n",
            "       BatchNorm2d-5           [-1, 64, 64, 64]             128\n",
            "         Dropout2d-6           [-1, 64, 64, 64]               0\n",
            "            Conv2d-7           [-1, 64, 64, 64]          36,864\n",
            "       BatchNorm2d-8           [-1, 64, 64, 64]             128\n",
            "         Dropout2d-9           [-1, 64, 64, 64]               0\n",
            "       BasicBlock-10           [-1, 64, 64, 64]               0\n",
            "           Conv2d-11           [-1, 64, 64, 64]          36,864\n",
            "      BatchNorm2d-12           [-1, 64, 64, 64]             128\n",
            "        Dropout2d-13           [-1, 64, 64, 64]               0\n",
            "           Conv2d-14           [-1, 64, 64, 64]          36,864\n",
            "      BatchNorm2d-15           [-1, 64, 64, 64]             128\n",
            "        Dropout2d-16           [-1, 64, 64, 64]               0\n",
            "       BasicBlock-17           [-1, 64, 64, 64]               0\n",
            "        Dropout2d-18           [-1, 64, 64, 64]               0\n",
            "           Conv2d-19          [-1, 128, 32, 32]          73,728\n",
            "      BatchNorm2d-20          [-1, 128, 32, 32]             256\n",
            "        Dropout2d-21          [-1, 128, 32, 32]               0\n",
            "           Conv2d-22          [-1, 128, 32, 32]         147,456\n",
            "      BatchNorm2d-23          [-1, 128, 32, 32]             256\n",
            "        Dropout2d-24          [-1, 128, 32, 32]               0\n",
            "           Conv2d-25          [-1, 128, 32, 32]           8,192\n",
            "      BatchNorm2d-26          [-1, 128, 32, 32]             256\n",
            "       BasicBlock-27          [-1, 128, 32, 32]               0\n",
            "           Conv2d-28          [-1, 128, 32, 32]         147,456\n",
            "      BatchNorm2d-29          [-1, 128, 32, 32]             256\n",
            "        Dropout2d-30          [-1, 128, 32, 32]               0\n",
            "           Conv2d-31          [-1, 128, 32, 32]         147,456\n",
            "      BatchNorm2d-32          [-1, 128, 32, 32]             256\n",
            "        Dropout2d-33          [-1, 128, 32, 32]               0\n",
            "       BasicBlock-34          [-1, 128, 32, 32]               0\n",
            "        Dropout2d-35          [-1, 128, 32, 32]               0\n",
            "           Conv2d-36          [-1, 256, 16, 16]         294,912\n",
            "      BatchNorm2d-37          [-1, 256, 16, 16]             512\n",
            "        Dropout2d-38          [-1, 256, 16, 16]               0\n",
            "           Conv2d-39          [-1, 256, 16, 16]         589,824\n",
            "      BatchNorm2d-40          [-1, 256, 16, 16]             512\n",
            "        Dropout2d-41          [-1, 256, 16, 16]               0\n",
            "           Conv2d-42          [-1, 256, 16, 16]          32,768\n",
            "      BatchNorm2d-43          [-1, 256, 16, 16]             512\n",
            "       BasicBlock-44          [-1, 256, 16, 16]               0\n",
            "           Conv2d-45          [-1, 256, 16, 16]         589,824\n",
            "      BatchNorm2d-46          [-1, 256, 16, 16]             512\n",
            "        Dropout2d-47          [-1, 256, 16, 16]               0\n",
            "           Conv2d-48          [-1, 256, 16, 16]         589,824\n",
            "      BatchNorm2d-49          [-1, 256, 16, 16]             512\n",
            "        Dropout2d-50          [-1, 256, 16, 16]               0\n",
            "       BasicBlock-51          [-1, 256, 16, 16]               0\n",
            "        Dropout2d-52          [-1, 256, 16, 16]               0\n",
            "           Conv2d-53            [-1, 512, 8, 8]       1,179,648\n",
            "      BatchNorm2d-54            [-1, 512, 8, 8]           1,024\n",
            "        Dropout2d-55            [-1, 512, 8, 8]               0\n",
            "           Conv2d-56            [-1, 512, 8, 8]       2,359,296\n",
            "      BatchNorm2d-57            [-1, 512, 8, 8]           1,024\n",
            "        Dropout2d-58            [-1, 512, 8, 8]               0\n",
            "           Conv2d-59            [-1, 512, 8, 8]         131,072\n",
            "      BatchNorm2d-60            [-1, 512, 8, 8]           1,024\n",
            "       BasicBlock-61            [-1, 512, 8, 8]               0\n",
            "           Conv2d-62            [-1, 512, 8, 8]       2,359,296\n",
            "      BatchNorm2d-63            [-1, 512, 8, 8]           1,024\n",
            "        Dropout2d-64            [-1, 512, 8, 8]               0\n",
            "           Conv2d-65            [-1, 512, 8, 8]       2,359,296\n",
            "      BatchNorm2d-66            [-1, 512, 8, 8]           1,024\n",
            "        Dropout2d-67            [-1, 512, 8, 8]               0\n",
            "       BasicBlock-68            [-1, 512, 8, 8]               0\n",
            "        Dropout2d-69            [-1, 512, 8, 8]               0\n",
            "           Linear-70                  [-1, 200]         102,600\n",
            "================================================================\n",
            "Total params: 11,271,432\n",
            "Trainable params: 11,271,432\n",
            "Non-trainable params: 0\n",
            "----------------------------------------------------------------\n",
            "Input size (MB): 0.05\n",
            "Forward/backward pass size (MB): 65.75\n",
            "Params size (MB): 43.00\n",
            "Estimated Total Size (MB): 108.80\n",
            "----------------------------------------------------------------\n"
          ],
          "name": "stdout"
        },
        {
          "output_type": "stream",
          "text": [
            "/content/models/resnet.py:97: UserWarning: Implicit dimension choice for log_softmax has been deprecated. Change the call to include dim=X as an argument.\n",
            "  return F.log_softmax(out)\n"
          ],
          "name": "stderr"
        }
      ]
    },
    {
      "cell_type": "code",
      "metadata": {
        "id": "2CZTHNLGLGh9",
        "colab_type": "code",
        "colab": {}
      },
      "source": [
        "lrs = [j*(10**i) for i in range(-3,-1) for j in range(1,11)]\n",
        "lr_range_test(lrs,model,device,train_loader, test_loader)\n"
      ],
      "execution_count": 0,
      "outputs": []
    },
    {
      "cell_type": "code",
      "metadata": {
        "id": "xQ7c7UTxOPJn",
        "colab_type": "code",
        "outputId": "17eb91e3-d736-423e-ed51-1d4ffc22bc5a",
        "colab": {
          "base_uri": "https://localhost:8080/",
          "height": 1000
        }
      },
      "source": [
        "\n",
        "optimizer = optim.SGD(model.parameters(), lr=0.01,  momentum=0.9)\n",
        "scheduler = OneCycleLR(optimizer, max_lr=0.3,  total_steps=50,pct_start=0.3, final_div_factor=1, div_factor=10)\n",
        "lrs=[]\n",
        "\n",
        "for epoch in range(1, 50):\n",
        "    curr_lr=optimizer.param_groups[0]['lr']\n",
        "    lrs.append(curr_lr)\n",
        "    print(f'Epoch: {epoch} Learning_Rate {curr_lr}')\n",
        "    train_acc1 = train(model, device, train_loader, optimizer, epoch)\n",
        "    test_acc1 = test(model, device, test_loader)\n",
        "    print('Test acc:', test_acc1)\n",
        "    scheduler.step()\n"
      ],
      "execution_count": 7,
      "outputs": [
        {
          "output_type": "stream",
          "text": [
            "\r  0%|          | 0/137 [00:00<?, ?it/s]"
          ],
          "name": "stderr"
        },
        {
          "output_type": "stream",
          "text": [
            "Epoch: 1 Learning_Rate 0.02999999999999997\n"
          ],
          "name": "stdout"
        },
        {
          "output_type": "stream",
          "text": [
            "/content/models/resnet.py:97: UserWarning: Implicit dimension choice for log_softmax has been deprecated. Change the call to include dim=X as an argument.\n",
            "  return F.log_softmax(out)\n",
            "Loss=5.187603950500488 Batch_id=136 Accuracy=1.28: 100%|██████████| 137/137 [05:06<00:00,  2.24s/it]\n",
            "  0%|          | 0/137 [00:00<?, ?it/s]"
          ],
          "name": "stderr"
        },
        {
          "output_type": "stream",
          "text": [
            "\n",
            "Test set: Average loss: 1.5201, Accuracy: 676/30000 (2.25%)\n",
            "\n",
            "Test acc: 2.2533333333333334\n",
            "Epoch: 2 Learning_Rate 0.03338473185545382\n"
          ],
          "name": "stdout"
        },
        {
          "output_type": "stream",
          "text": [
            "Loss=5.033329963684082 Batch_id=136 Accuracy=2.20: 100%|██████████| 137/137 [05:12<00:00,  2.28s/it]\n",
            "  0%|          | 0/137 [00:00<?, ?it/s]"
          ],
          "name": "stderr"
        },
        {
          "output_type": "stream",
          "text": [
            "\n",
            "Test set: Average loss: 1.4628, Accuracy: 1119/30000 (3.73%)\n",
            "\n",
            "Test acc: 3.73\n",
            "Epoch: 3 Learning_Rate 0.043369202833173415\n"
          ],
          "name": "stdout"
        },
        {
          "output_type": "stream",
          "text": [
            "Loss=4.853988170623779 Batch_id=136 Accuracy=3.22: 100%|██████████| 137/137 [05:12<00:00,  2.28s/it]\n",
            "  0%|          | 0/137 [00:00<?, ?it/s]"
          ],
          "name": "stderr"
        },
        {
          "output_type": "stream",
          "text": [
            "\n",
            "Test set: Average loss: 1.4027, Accuracy: 1697/30000 (5.66%)\n",
            "\n",
            "Test acc: 5.656666666666666\n",
            "Epoch: 4 Learning_Rate 0.059452749866815924\n"
          ],
          "name": "stdout"
        },
        {
          "output_type": "stream",
          "text": [
            "Loss=4.7983174324035645 Batch_id=136 Accuracy=4.34: 100%|██████████| 137/137 [05:12<00:00,  2.28s/it]\n",
            "  0%|          | 0/137 [00:00<?, ?it/s]"
          ],
          "name": "stderr"
        },
        {
          "output_type": "stream",
          "text": [
            "\n",
            "Test set: Average loss: 1.3522, Accuracy: 2011/30000 (6.70%)\n",
            "\n",
            "Test acc: 6.703333333333333\n",
            "Epoch: 5 Learning_Rate 0.08082887674907094\n"
          ],
          "name": "stdout"
        },
        {
          "output_type": "stream",
          "text": [
            "Loss=4.691638946533203 Batch_id=136 Accuracy=5.57: 100%|██████████| 137/137 [05:12<00:00,  2.28s/it]\n",
            "  0%|          | 0/137 [00:00<?, ?it/s]"
          ],
          "name": "stderr"
        },
        {
          "output_type": "stream",
          "text": [
            "\n",
            "Test set: Average loss: 1.3108, Accuracy: 2533/30000 (8.44%)\n",
            "\n",
            "Test acc: 8.443333333333333\n",
            "Epoch: 6 Learning_Rate 0.10642569521912965\n"
          ],
          "name": "stdout"
        },
        {
          "output_type": "stream",
          "text": [
            "Loss=4.536252021789551 Batch_id=136 Accuracy=6.71: 100%|██████████| 137/137 [05:12<00:00,  2.28s/it]\n",
            "  0%|          | 0/137 [00:00<?, ?it/s]"
          ],
          "name": "stderr"
        },
        {
          "output_type": "stream",
          "text": [
            "\n",
            "Test set: Average loss: 1.2630, Accuracy: 3009/30000 (10.03%)\n",
            "\n",
            "Test acc: 10.03\n",
            "Epoch: 7 Learning_Rate 0.13495967391589755\n"
          ],
          "name": "stdout"
        },
        {
          "output_type": "stream",
          "text": [
            "Loss=4.444869518280029 Batch_id=136 Accuracy=8.08: 100%|██████████| 137/137 [05:12<00:00,  2.28s/it]\n",
            "  0%|          | 0/137 [00:00<?, ?it/s]"
          ],
          "name": "stderr"
        },
        {
          "output_type": "stream",
          "text": [
            "\n",
            "Test set: Average loss: 1.2186, Accuracy: 3829/30000 (12.76%)\n",
            "\n",
            "Test acc: 12.763333333333334\n",
            "Epoch: 8 Learning_Rate 0.16499999999999998\n"
          ],
          "name": "stdout"
        },
        {
          "output_type": "stream",
          "text": [
            "Loss=4.221992015838623 Batch_id=136 Accuracy=9.45: 100%|██████████| 137/137 [05:12<00:00,  2.28s/it]\n",
            "  0%|          | 0/137 [00:00<?, ?it/s]"
          ],
          "name": "stderr"
        },
        {
          "output_type": "stream",
          "text": [
            "\n",
            "Test set: Average loss: 1.1985, Accuracy: 4028/30000 (13.43%)\n",
            "\n",
            "Test acc: 13.426666666666666\n",
            "Epoch: 9 Learning_Rate 0.19504032608410243\n"
          ],
          "name": "stdout"
        },
        {
          "output_type": "stream",
          "text": [
            "Loss=4.123845100402832 Batch_id=136 Accuracy=11.21: 100%|██████████| 137/137 [05:12<00:00,  2.28s/it]\n",
            "  0%|          | 0/137 [00:00<?, ?it/s]"
          ],
          "name": "stderr"
        },
        {
          "output_type": "stream",
          "text": [
            "\n",
            "Test set: Average loss: 1.1828, Accuracy: 4410/30000 (14.70%)\n",
            "\n",
            "Test acc: 14.7\n",
            "Epoch: 10 Learning_Rate 0.22357430478087031\n"
          ],
          "name": "stdout"
        },
        {
          "output_type": "stream",
          "text": [
            "Loss=4.019441604614258 Batch_id=136 Accuracy=12.61: 100%|██████████| 137/137 [05:12<00:00,  2.28s/it]\n",
            "  0%|          | 0/137 [00:00<?, ?it/s]"
          ],
          "name": "stderr"
        },
        {
          "output_type": "stream",
          "text": [
            "\n",
            "Test set: Average loss: 1.1191, Accuracy: 5327/30000 (17.76%)\n",
            "\n",
            "Test acc: 17.756666666666668\n",
            "Epoch: 11 Learning_Rate 0.249171123250929\n"
          ],
          "name": "stdout"
        },
        {
          "output_type": "stream",
          "text": [
            "Loss=3.807713747024536 Batch_id=136 Accuracy=14.41: 100%|██████████| 137/137 [05:12<00:00,  2.28s/it]\n",
            "  0%|          | 0/137 [00:00<?, ?it/s]"
          ],
          "name": "stderr"
        },
        {
          "output_type": "stream",
          "text": [
            "\n",
            "Test set: Average loss: 1.0530, Accuracy: 6342/30000 (21.14%)\n",
            "\n",
            "Test acc: 21.14\n",
            "Epoch: 12 Learning_Rate 0.27054725013318404\n"
          ],
          "name": "stdout"
        },
        {
          "output_type": "stream",
          "text": [
            "Loss=3.752730369567871 Batch_id=136 Accuracy=15.66: 100%|██████████| 137/137 [05:12<00:00,  2.28s/it]\n",
            "  0%|          | 0/137 [00:00<?, ?it/s]"
          ],
          "name": "stderr"
        },
        {
          "output_type": "stream",
          "text": [
            "\n",
            "Test set: Average loss: 1.0295, Accuracy: 6858/30000 (22.86%)\n",
            "\n",
            "Test acc: 22.86\n",
            "Epoch: 13 Learning_Rate 0.28663079716682655\n"
          ],
          "name": "stdout"
        },
        {
          "output_type": "stream",
          "text": [
            "Loss=3.7606360912323 Batch_id=136 Accuracy=17.16: 100%|██████████| 137/137 [05:12<00:00,  2.28s/it]\n",
            "  0%|          | 0/137 [00:00<?, ?it/s]"
          ],
          "name": "stderr"
        },
        {
          "output_type": "stream",
          "text": [
            "\n",
            "Test set: Average loss: 0.9909, Accuracy: 7478/30000 (24.93%)\n",
            "\n",
            "Test acc: 24.926666666666666\n",
            "Epoch: 14 Learning_Rate 0.2966152681445462\n"
          ],
          "name": "stdout"
        },
        {
          "output_type": "stream",
          "text": [
            "Loss=3.7731847763061523 Batch_id=136 Accuracy=18.92: 100%|██████████| 137/137 [05:12<00:00,  2.28s/it]\n",
            "  0%|          | 0/137 [00:00<?, ?it/s]"
          ],
          "name": "stderr"
        },
        {
          "output_type": "stream",
          "text": [
            "\n",
            "Test set: Average loss: 0.9718, Accuracy: 7987/30000 (26.62%)\n",
            "\n",
            "Test acc: 26.623333333333335\n",
            "Epoch: 15 Learning_Rate 0.3\n"
          ],
          "name": "stdout"
        },
        {
          "output_type": "stream",
          "text": [
            "Loss=3.515862226486206 Batch_id=136 Accuracy=20.23: 100%|██████████| 137/137 [05:12<00:00,  2.28s/it]\n",
            "  0%|          | 0/137 [00:00<?, ?it/s]"
          ],
          "name": "stderr"
        },
        {
          "output_type": "stream",
          "text": [
            "\n",
            "Test set: Average loss: 0.9333, Accuracy: 8509/30000 (28.36%)\n",
            "\n",
            "Test acc: 28.363333333333333\n",
            "Epoch: 16 Learning_Rate 0.2994565296893573\n"
          ],
          "name": "stdout"
        },
        {
          "output_type": "stream",
          "text": [
            "Loss=3.470289707183838 Batch_id=136 Accuracy=21.66: 100%|██████████| 137/137 [05:12<00:00,  2.28s/it]\n",
            "  0%|          | 0/137 [00:00<?, ?it/s]"
          ],
          "name": "stderr"
        },
        {
          "output_type": "stream",
          "text": [
            "\n",
            "Test set: Average loss: 0.9215, Accuracy: 8768/30000 (29.23%)\n",
            "\n",
            "Test acc: 29.226666666666667\n",
            "Epoch: 17 Learning_Rate 0.297830494460815\n"
          ],
          "name": "stdout"
        },
        {
          "output_type": "stream",
          "text": [
            "Loss=3.5707805156707764 Batch_id=136 Accuracy=22.55: 100%|██████████| 137/137 [05:12<00:00,  2.28s/it]\n",
            "  0%|          | 0/137 [00:00<?, ?it/s]"
          ],
          "name": "stderr"
        },
        {
          "output_type": "stream",
          "text": [
            "\n",
            "Test set: Average loss: 0.8927, Accuracy: 9310/30000 (31.03%)\n",
            "\n",
            "Test acc: 31.033333333333335\n",
            "Epoch: 18 Learning_Rate 0.2951349861939402\n"
          ],
          "name": "stdout"
        },
        {
          "output_type": "stream",
          "text": [
            "Loss=3.2650110721588135 Batch_id=136 Accuracy=23.74: 100%|██████████| 137/137 [05:12<00:00,  2.28s/it]\n",
            "  0%|          | 0/137 [00:00<?, ?it/s]"
          ],
          "name": "stderr"
        },
        {
          "output_type": "stream",
          "text": [
            "\n",
            "Test set: Average loss: 0.8639, Accuracy: 9943/30000 (33.14%)\n",
            "\n",
            "Test acc: 33.14333333333333\n",
            "Epoch: 19 Learning_Rate 0.29139170753636456\n"
          ],
          "name": "stdout"
        },
        {
          "output_type": "stream",
          "text": [
            "Loss=3.323317050933838 Batch_id=136 Accuracy=25.07: 100%|██████████| 137/137 [05:11<00:00,  2.28s/it]\n",
            "  0%|          | 0/137 [00:00<?, ?it/s]"
          ],
          "name": "stderr"
        },
        {
          "output_type": "stream",
          "text": [
            "\n",
            "Test set: Average loss: 0.8480, Accuracy: 10247/30000 (34.16%)\n",
            "\n",
            "Test acc: 34.156666666666666\n",
            "Epoch: 20 Learning_Rate 0.2866307971668266\n"
          ],
          "name": "stdout"
        },
        {
          "output_type": "stream",
          "text": [
            "Loss=3.3716483116149902 Batch_id=136 Accuracy=25.95: 100%|██████████| 137/137 [05:11<00:00,  2.28s/it]\n",
            "  0%|          | 0/137 [00:00<?, ?it/s]"
          ],
          "name": "stderr"
        },
        {
          "output_type": "stream",
          "text": [
            "\n",
            "Test set: Average loss: 0.8502, Accuracy: 10228/30000 (34.09%)\n",
            "\n",
            "Test acc: 34.093333333333334\n",
            "Epoch: 21 Learning_Rate 0.2808905871362519\n"
          ],
          "name": "stdout"
        },
        {
          "output_type": "stream",
          "text": [
            "Loss=3.159205675125122 Batch_id=136 Accuracy=27.13: 100%|██████████| 137/137 [05:11<00:00,  2.28s/it]\n",
            "  0%|          | 0/137 [00:00<?, ?it/s]"
          ],
          "name": "stderr"
        },
        {
          "output_type": "stream",
          "text": [
            "\n",
            "Test set: Average loss: 0.8115, Accuracy: 10933/30000 (36.44%)\n",
            "\n",
            "Test acc: 36.443333333333335\n",
            "Epoch: 22 Learning_Rate 0.2742172942406179\n"
          ],
          "name": "stdout"
        },
        {
          "output_type": "stream",
          "text": [
            "Loss=3.166612386703491 Batch_id=136 Accuracy=28.04: 100%|██████████| 137/137 [05:11<00:00,  2.28s/it]\n",
            "  0%|          | 0/137 [00:00<?, ?it/s]"
          ],
          "name": "stderr"
        },
        {
          "output_type": "stream",
          "text": [
            "\n",
            "Test set: Average loss: 0.8283, Accuracy: 10696/30000 (35.65%)\n",
            "\n",
            "Test acc: 35.653333333333336\n",
            "Epoch: 23 Learning_Rate 0.2666646479104875\n"
          ],
          "name": "stdout"
        },
        {
          "output_type": "stream",
          "text": [
            "Loss=3.076965570449829 Batch_id=136 Accuracy=28.83: 100%|██████████| 137/137 [05:11<00:00,  2.28s/it]\n",
            "  0%|          | 0/137 [00:00<?, ?it/s]"
          ],
          "name": "stderr"
        },
        {
          "output_type": "stream",
          "text": [
            "\n",
            "Test set: Average loss: 0.7881, Accuracy: 11526/30000 (38.42%)\n",
            "\n",
            "Test acc: 38.42\n",
            "Epoch: 24 Learning_Rate 0.25829345761322675\n"
          ],
          "name": "stdout"
        },
        {
          "output_type": "stream",
          "text": [
            "Loss=3.2210428714752197 Batch_id=136 Accuracy=29.80: 100%|██████████| 137/137 [05:11<00:00,  2.28s/it]\n",
            "  0%|          | 0/137 [00:00<?, ?it/s]"
          ],
          "name": "stderr"
        },
        {
          "output_type": "stream",
          "text": [
            "\n",
            "Test set: Average loss: 0.7885, Accuracy: 11466/30000 (38.22%)\n",
            "\n",
            "Test acc: 38.22\n",
            "Epoch: 25 Learning_Rate 0.24917112325092905\n"
          ],
          "name": "stdout"
        },
        {
          "output_type": "stream",
          "text": [
            "Loss=2.8572847843170166 Batch_id=136 Accuracy=30.80: 100%|██████████| 137/137 [05:12<00:00,  2.28s/it]\n",
            "  0%|          | 0/137 [00:00<?, ?it/s]"
          ],
          "name": "stderr"
        },
        {
          "output_type": "stream",
          "text": [
            "\n",
            "Test set: Average loss: 0.7992, Accuracy: 11423/30000 (38.08%)\n",
            "\n",
            "Test acc: 38.07666666666667\n",
            "Epoch: 26 Learning_Rate 0.23937109249603386\n"
          ],
          "name": "stdout"
        },
        {
          "output_type": "stream",
          "text": [
            "Loss=2.9388365745544434 Batch_id=136 Accuracy=32.01: 100%|██████████| 137/137 [05:11<00:00,  2.28s/it]\n",
            "  0%|          | 0/137 [00:00<?, ?it/s]"
          ],
          "name": "stderr"
        },
        {
          "output_type": "stream",
          "text": [
            "\n",
            "Test set: Average loss: 0.7583, Accuracy: 12058/30000 (40.19%)\n",
            "\n",
            "Test acc: 40.193333333333335\n",
            "Epoch: 27 Learning_Rate 0.22897226943385482\n"
          ],
          "name": "stdout"
        },
        {
          "output_type": "stream",
          "text": [
            "Loss=2.802854537963867 Batch_id=136 Accuracy=32.33: 100%|██████████| 137/137 [05:11<00:00,  2.28s/it]\n",
            "  0%|          | 0/137 [00:00<?, ?it/s]"
          ],
          "name": "stderr"
        },
        {
          "output_type": "stream",
          "text": [
            "\n",
            "Test set: Average loss: 0.7472, Accuracy: 12269/30000 (40.90%)\n",
            "\n",
            "Test acc: 40.89666666666667\n",
            "Epoch: 28 Learning_Rate 0.2180583792732797\n"
          ],
          "name": "stdout"
        },
        {
          "output_type": "stream",
          "text": [
            "Loss=2.9744277000427246 Batch_id=136 Accuracy=33.18: 100%|██████████| 137/137 [05:11<00:00,  2.27s/it]\n",
            "  0%|          | 0/137 [00:00<?, ?it/s]"
          ],
          "name": "stderr"
        },
        {
          "output_type": "stream",
          "text": [
            "\n",
            "Test set: Average loss: 0.7406, Accuracy: 12573/30000 (41.91%)\n",
            "\n",
            "Test acc: 41.91\n",
            "Epoch: 29 Learning_Rate 0.2067172942406179\n"
          ],
          "name": "stdout"
        },
        {
          "output_type": "stream",
          "text": [
            "Loss=2.868523359298706 Batch_id=136 Accuracy=34.06: 100%|██████████| 137/137 [05:11<00:00,  2.28s/it]\n",
            "  0%|          | 0/137 [00:00<?, ?it/s]"
          ],
          "name": "stderr"
        },
        {
          "output_type": "stream",
          "text": [
            "\n",
            "Test set: Average loss: 0.7317, Accuracy: 12798/30000 (42.66%)\n",
            "\n",
            "Test acc: 42.66\n",
            "Epoch: 30 Learning_Rate 0.19504032608410243\n"
          ],
          "name": "stdout"
        },
        {
          "output_type": "stream",
          "text": [
            "Loss=2.624112367630005 Batch_id=136 Accuracy=34.58: 100%|██████████| 137/137 [05:11<00:00,  2.28s/it]\n",
            "  0%|          | 0/137 [00:00<?, ?it/s]"
          ],
          "name": "stderr"
        },
        {
          "output_type": "stream",
          "text": [
            "\n",
            "Test set: Average loss: 0.7390, Accuracy: 12624/30000 (42.08%)\n",
            "\n",
            "Test acc: 42.08\n",
            "Epoch: 31 Learning_Rate 0.1831214908853835\n"
          ],
          "name": "stdout"
        },
        {
          "output_type": "stream",
          "text": [
            "Loss=2.695834159851074 Batch_id=136 Accuracy=35.56: 100%|██████████| 137/137 [05:11<00:00,  2.28s/it]\n",
            "  0%|          | 0/137 [00:00<?, ?it/s]"
          ],
          "name": "stderr"
        },
        {
          "output_type": "stream",
          "text": [
            "\n",
            "Test set: Average loss: 0.7157, Accuracy: 13160/30000 (43.87%)\n",
            "\n",
            "Test acc: 43.86666666666667\n",
            "Epoch: 32 Learning_Rate 0.17105675209731955\n"
          ],
          "name": "stdout"
        },
        {
          "output_type": "stream",
          "text": [
            "Loss=2.674633264541626 Batch_id=136 Accuracy=36.31: 100%|██████████| 137/137 [05:12<00:00,  2.28s/it]\n",
            "  0%|          | 0/137 [00:00<?, ?it/s]"
          ],
          "name": "stderr"
        },
        {
          "output_type": "stream",
          "text": [
            "\n",
            "Test set: Average loss: 0.7128, Accuracy: 13226/30000 (44.09%)\n",
            "\n",
            "Test acc: 44.086666666666666\n",
            "Epoch: 33 Learning_Rate 0.15894324790268055\n"
          ],
          "name": "stdout"
        },
        {
          "output_type": "stream",
          "text": [
            "Loss=2.710991621017456 Batch_id=136 Accuracy=37.01: 100%|██████████| 137/137 [05:12<00:00,  2.28s/it]\n",
            "  0%|          | 0/137 [00:00<?, ?it/s]"
          ],
          "name": "stderr"
        },
        {
          "output_type": "stream",
          "text": [
            "\n",
            "Test set: Average loss: 0.6925, Accuracy: 13502/30000 (45.01%)\n",
            "\n",
            "Test acc: 45.00666666666667\n",
            "Epoch: 34 Learning_Rate 0.14687850911461656\n"
          ],
          "name": "stdout"
        },
        {
          "output_type": "stream",
          "text": [
            "Loss=2.8319098949432373 Batch_id=136 Accuracy=37.34: 100%|██████████| 137/137 [05:11<00:00,  2.28s/it]\n",
            "  0%|          | 0/137 [00:00<?, ?it/s]"
          ],
          "name": "stderr"
        },
        {
          "output_type": "stream",
          "text": [
            "\n",
            "Test set: Average loss: 0.7003, Accuracy: 13570/30000 (45.23%)\n",
            "\n",
            "Test acc: 45.233333333333334\n",
            "Epoch: 35 Learning_Rate 0.13495967391589758\n"
          ],
          "name": "stdout"
        },
        {
          "output_type": "stream",
          "text": [
            "Loss=2.6972756385803223 Batch_id=136 Accuracy=37.97: 100%|██████████| 137/137 [05:11<00:00,  2.27s/it]\n",
            "  0%|          | 0/137 [00:00<?, ?it/s]"
          ],
          "name": "stderr"
        },
        {
          "output_type": "stream",
          "text": [
            "\n",
            "Test set: Average loss: 0.6980, Accuracy: 13608/30000 (45.36%)\n",
            "\n",
            "Test acc: 45.36\n",
            "Epoch: 36 Learning_Rate 0.12328270575938212\n"
          ],
          "name": "stdout"
        },
        {
          "output_type": "stream",
          "text": [
            "Loss=2.566122055053711 Batch_id=136 Accuracy=38.61: 100%|██████████| 137/137 [05:11<00:00,  2.27s/it]\n",
            "  0%|          | 0/137 [00:00<?, ?it/s]"
          ],
          "name": "stderr"
        },
        {
          "output_type": "stream",
          "text": [
            "\n",
            "Test set: Average loss: 0.6770, Accuracy: 13949/30000 (46.50%)\n",
            "\n",
            "Test acc: 46.49666666666667\n",
            "Epoch: 37 Learning_Rate 0.11194162072672033\n"
          ],
          "name": "stdout"
        },
        {
          "output_type": "stream",
          "text": [
            "Loss=2.599719762802124 Batch_id=136 Accuracy=39.50: 100%|██████████| 137/137 [05:12<00:00,  2.28s/it]\n",
            "  0%|          | 0/137 [00:00<?, ?it/s]"
          ],
          "name": "stderr"
        },
        {
          "output_type": "stream",
          "text": [
            "\n",
            "Test set: Average loss: 0.6646, Accuracy: 14226/30000 (47.42%)\n",
            "\n",
            "Test acc: 47.42\n",
            "Epoch: 38 Learning_Rate 0.10102773056614518\n"
          ],
          "name": "stdout"
        },
        {
          "output_type": "stream",
          "text": [
            "Loss=2.5917742252349854 Batch_id=136 Accuracy=39.84: 100%|██████████| 137/137 [05:11<00:00,  2.27s/it]\n",
            "  0%|          | 0/137 [00:00<?, ?it/s]"
          ],
          "name": "stderr"
        },
        {
          "output_type": "stream",
          "text": [
            "\n",
            "Test set: Average loss: 0.6608, Accuracy: 14387/30000 (47.96%)\n",
            "\n",
            "Test acc: 47.95666666666666\n",
            "Epoch: 39 Learning_Rate 0.09062890750396618\n"
          ],
          "name": "stdout"
        },
        {
          "output_type": "stream",
          "text": [
            "Loss=2.548409938812256 Batch_id=136 Accuracy=40.40: 100%|██████████| 137/137 [05:11<00:00,  2.27s/it]\n",
            "  0%|          | 0/137 [00:00<?, ?it/s]"
          ],
          "name": "stderr"
        },
        {
          "output_type": "stream",
          "text": [
            "\n",
            "Test set: Average loss: 0.6557, Accuracy: 14516/30000 (48.39%)\n",
            "\n",
            "Test acc: 48.38666666666666\n",
            "Epoch: 40 Learning_Rate 0.08082887674907098\n"
          ],
          "name": "stdout"
        },
        {
          "output_type": "stream",
          "text": [
            "Loss=2.4567835330963135 Batch_id=136 Accuracy=41.00: 100%|██████████| 137/137 [05:11<00:00,  2.27s/it]\n",
            "  0%|          | 0/137 [00:00<?, ?it/s]"
          ],
          "name": "stderr"
        },
        {
          "output_type": "stream",
          "text": [
            "\n",
            "Test set: Average loss: 0.6559, Accuracy: 14503/30000 (48.34%)\n",
            "\n",
            "Test acc: 48.343333333333334\n",
            "Epoch: 41 Learning_Rate 0.07170654238677326\n"
          ],
          "name": "stdout"
        },
        {
          "output_type": "stream",
          "text": [
            "Loss=2.4647345542907715 Batch_id=136 Accuracy=41.84: 100%|██████████| 137/137 [05:11<00:00,  2.27s/it]\n",
            "  0%|          | 0/137 [00:00<?, ?it/s]"
          ],
          "name": "stderr"
        },
        {
          "output_type": "stream",
          "text": [
            "\n",
            "Test set: Average loss: 0.6466, Accuracy: 14727/30000 (49.09%)\n",
            "\n",
            "Test acc: 49.09\n",
            "Epoch: 42 Learning_Rate 0.06333535208951253\n"
          ],
          "name": "stdout"
        },
        {
          "output_type": "stream",
          "text": [
            "Loss=2.3409860134124756 Batch_id=136 Accuracy=42.30: 100%|██████████| 137/137 [05:11<00:00,  2.27s/it]\n",
            "  0%|          | 0/137 [00:00<?, ?it/s]"
          ],
          "name": "stderr"
        },
        {
          "output_type": "stream",
          "text": [
            "\n",
            "Test set: Average loss: 0.6368, Accuracy: 14846/30000 (49.49%)\n",
            "\n",
            "Test acc: 49.486666666666665\n",
            "Epoch: 43 Learning_Rate 0.055782705759382115\n"
          ],
          "name": "stdout"
        },
        {
          "output_type": "stream",
          "text": [
            "Loss=2.2154364585876465 Batch_id=136 Accuracy=42.61: 100%|██████████| 137/137 [05:11<00:00,  2.27s/it]\n",
            "  0%|          | 0/137 [00:00<?, ?it/s]"
          ],
          "name": "stderr"
        },
        {
          "output_type": "stream",
          "text": [
            "\n",
            "Test set: Average loss: 0.6439, Accuracy: 14822/30000 (49.41%)\n",
            "\n",
            "Test acc: 49.406666666666666\n",
            "Epoch: 44 Learning_Rate 0.04910941286374808\n"
          ],
          "name": "stdout"
        },
        {
          "output_type": "stream",
          "text": [
            "Loss=2.2230710983276367 Batch_id=136 Accuracy=43.02: 100%|██████████| 137/137 [05:11<00:00,  2.27s/it]\n",
            "  0%|          | 0/137 [00:00<?, ?it/s]"
          ],
          "name": "stderr"
        },
        {
          "output_type": "stream",
          "text": [
            "\n",
            "Test set: Average loss: 0.6272, Accuracy: 15163/30000 (50.54%)\n",
            "\n",
            "Test acc: 50.54333333333334\n",
            "Epoch: 45 Learning_Rate 0.04336920283317343\n"
          ],
          "name": "stdout"
        },
        {
          "output_type": "stream",
          "text": [
            "Loss=2.4108357429504395 Batch_id=136 Accuracy=43.84: 100%|██████████| 137/137 [05:11<00:00,  2.27s/it]\n",
            "  0%|          | 0/137 [00:00<?, ?it/s]"
          ],
          "name": "stderr"
        },
        {
          "output_type": "stream",
          "text": [
            "\n",
            "Test set: Average loss: 0.6372, Accuracy: 15091/30000 (50.30%)\n",
            "\n",
            "Test acc: 50.303333333333335\n",
            "Epoch: 46 Learning_Rate 0.03860829246363548\n"
          ],
          "name": "stdout"
        },
        {
          "output_type": "stream",
          "text": [
            "Loss=2.3310368061065674 Batch_id=136 Accuracy=44.28: 100%|██████████| 137/137 [05:11<00:00,  2.27s/it]\n",
            "  0%|          | 0/137 [00:00<?, ?it/s]"
          ],
          "name": "stderr"
        },
        {
          "output_type": "stream",
          "text": [
            "\n",
            "Test set: Average loss: 0.6265, Accuracy: 15247/30000 (50.82%)\n",
            "\n",
            "Test acc: 50.82333333333333\n",
            "Epoch: 47 Learning_Rate 0.03486501380605981\n"
          ],
          "name": "stdout"
        },
        {
          "output_type": "stream",
          "text": [
            "Loss=2.3882265090942383 Batch_id=136 Accuracy=44.62: 100%|██████████| 137/137 [05:11<00:00,  2.27s/it]\n",
            "  0%|          | 0/137 [00:00<?, ?it/s]"
          ],
          "name": "stderr"
        },
        {
          "output_type": "stream",
          "text": [
            "\n",
            "Test set: Average loss: 0.6223, Accuracy: 15319/30000 (51.06%)\n",
            "\n",
            "Test acc: 51.06333333333333\n",
            "Epoch: 48 Learning_Rate 0.032169505539184996\n"
          ],
          "name": "stdout"
        },
        {
          "output_type": "stream",
          "text": [
            "Loss=2.234037160873413 Batch_id=136 Accuracy=45.30: 100%|██████████| 137/137 [05:11<00:00,  2.27s/it]\n",
            "  0%|          | 0/137 [00:00<?, ?it/s]"
          ],
          "name": "stderr"
        },
        {
          "output_type": "stream",
          "text": [
            "\n",
            "Test set: Average loss: 0.6175, Accuracy: 15515/30000 (51.72%)\n",
            "\n",
            "Test acc: 51.71666666666667\n",
            "Epoch: 49 Learning_Rate 0.030543470310642723\n"
          ],
          "name": "stdout"
        },
        {
          "output_type": "stream",
          "text": [
            "Loss=2.1963794231414795 Batch_id=136 Accuracy=45.44: 100%|██████████| 137/137 [05:11<00:00,  2.27s/it]\n"
          ],
          "name": "stderr"
        },
        {
          "output_type": "stream",
          "text": [
            "\n",
            "Test set: Average loss: 0.6147, Accuracy: 15488/30000 (51.63%)\n",
            "\n",
            "Test acc: 51.626666666666665\n"
          ],
          "name": "stdout"
        }
      ]
    },
    {
      "cell_type": "code",
      "metadata": {
        "id": "6ywfxfg3FMuK",
        "colab_type": "code",
        "outputId": "c9b87554-3cf2-42ad-f902-852a0ad0390f",
        "colab": {
          "base_uri": "https://localhost:8080/",
          "height": 122
        }
      },
      "source": [
        "from google.colab import drive\n",
        "drive.mount('/content/gdrive',force_remount=True)\n",
        "PATH = '/content/gdrive/My Drive/Colab Notebooks/eva4_s9/assignment11_ResNetcust_model.h5'\n",
        "!touch PATH\n",
        "torch.save(model.state_dict(), PATH)"
      ],
      "execution_count": 0,
      "outputs": [
        {
          "output_type": "stream",
          "text": [
            "Go to this URL in a browser: https://accounts.google.com/o/oauth2/auth?client_id=947318989803-6bn6qk8qdgf4n4g3pfee6491hc0brc4i.apps.googleusercontent.com&redirect_uri=urn%3aietf%3awg%3aoauth%3a2.0%3aoob&response_type=code&scope=email%20https%3a%2f%2fwww.googleapis.com%2fauth%2fdocs.test%20https%3a%2f%2fwww.googleapis.com%2fauth%2fdrive%20https%3a%2f%2fwww.googleapis.com%2fauth%2fdrive.photos.readonly%20https%3a%2f%2fwww.googleapis.com%2fauth%2fpeopleapi.readonly\n",
            "\n",
            "Enter your authorization code:\n",
            "··········\n",
            "Mounted at /content/gdrive\n"
          ],
          "name": "stdout"
        }
      ]
    },
    {
      "cell_type": "code",
      "metadata": {
        "id": "m0LvrpguGKGr",
        "colab_type": "code",
        "colab": {}
      },
      "source": [
        ""
      ],
      "execution_count": 0,
      "outputs": []
    }
  ]
}