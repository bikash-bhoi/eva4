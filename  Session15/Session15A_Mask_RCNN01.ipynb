{
  "nbformat": 4,
  "nbformat_minor": 0,
  "metadata": {
    "colab": {
      "name": "Session15A_Mask_RCNN01.ipynb",
      "provenance": [],
      "collapsed_sections": [],
      "include_colab_link": true
    },
    "kernelspec": {
      "name": "python3",
      "display_name": "Python 3"
    }
  },
  "cells": [
    {
      "cell_type": "markdown",
      "metadata": {
        "id": "view-in-github",
        "colab_type": "text"
      },
      "source": [
        "<a href=\"https://colab.research.google.com/github/bikash-bhoi/eva4/blob/master/%20Session15/Session15A_Mask_RCNN01.ipynb\" target=\"_parent\"><img src=\"https://colab.research.google.com/assets/colab-badge.svg\" alt=\"Open In Colab\"/></a>"
      ]
    },
    {
      "cell_type": "code",
      "metadata": {
        "id": "Dm2pvUNCzEY9",
        "colab_type": "code",
        "outputId": "46fea5f5-913b-42c4-f22e-1f69e0c617b0",
        "colab": {
          "base_uri": "https://localhost:8080/",
          "height": 125
        }
      },
      "source": [
        "#Mount Google Drive\n",
        "from google.colab import drive\n",
        "drive.mount('/content/gdrive')"
      ],
      "execution_count": 1,
      "outputs": [
        {
          "output_type": "stream",
          "text": [
            "Go to this URL in a browser: https://accounts.google.com/o/oauth2/auth?client_id=947318989803-6bn6qk8qdgf4n4g3pfee6491hc0brc4i.apps.googleusercontent.com&redirect_uri=urn%3aietf%3awg%3aoauth%3a2.0%3aoob&response_type=code&scope=email%20https%3a%2f%2fwww.googleapis.com%2fauth%2fdocs.test%20https%3a%2f%2fwww.googleapis.com%2fauth%2fdrive%20https%3a%2f%2fwww.googleapis.com%2fauth%2fdrive.photos.readonly%20https%3a%2f%2fwww.googleapis.com%2fauth%2fpeopleapi.readonly\n",
            "\n",
            "Enter your authorization code:\n",
            "··········\n",
            "Mounted at /content/gdrive\n"
          ],
          "name": "stdout"
        }
      ]
    },
    {
      "cell_type": "code",
      "metadata": {
        "id": "lKLURFUNEkBL",
        "colab_type": "code",
        "colab": {}
      },
      "source": [
        "import cv2\n",
        "import numpy as np\n",
        "import matplotlib.pyplot as plt\n",
        "from random import randint\n",
        "import os"
      ],
      "execution_count": 0,
      "outputs": []
    },
    {
      "cell_type": "code",
      "metadata": {
        "id": "c71tpQ4aDs-W",
        "colab_type": "code",
        "colab": {}
      },
      "source": [
        "#copy bg/fg/mask files from Drive\n",
        "%%bash\n",
        "cd /content\n",
        "mkdir Mask_RCNN\n",
        "cp -r /content/gdrive/My\\ Drive/Mask_RCNN/* Mask_RCNN/"
      ],
      "execution_count": 0,
      "outputs": []
    },
    {
      "cell_type": "code",
      "metadata": {
        "id": "aUyxfa2xEtt_",
        "colab_type": "code",
        "colab": {
          "base_uri": "https://localhost:8080/",
          "height": 105
        },
        "outputId": "5eaad16b-ad54-4543-83cd-e07a3dadab5a"
      },
      "source": [
        "%%bash\n",
        "ls Mask_RCNN/Cars_Fg/ |wc -l\n",
        "ls Mask_RCNN/Cars_Mask/ |wc -l\n",
        "ls Mask_RCNN/background/ |wc -l\n",
        "ls Mask_RCNN/fg_bg/ |wc -l\n",
        "ls Mask_RCNN/fg_bg_mask/ |wc -l"
      ],
      "execution_count": 4,
      "outputs": [
        {
          "output_type": "stream",
          "text": [
            "100\n",
            "100\n",
            "100\n",
            "0\n",
            "0\n"
          ],
          "name": "stdout"
        }
      ]
    },
    {
      "cell_type": "code",
      "metadata": {
        "id": "m_OpyuiRUjIq",
        "colab_type": "code",
        "colab": {}
      },
      "source": [
        "## Function to Create Overlay\n",
        "def overlay_fg_bg(fg,bg,x_offset,y_offset,tgt_save):\n",
        "    fg_bg=bg.copy()\n",
        "    y1, y2 = y_offset, y_offset + fg.shape[0]\n",
        "    x1, x2 = x_offset, x_offset + fg.shape[1]\n",
        "    \n",
        "    alpha_fg = fg[:, :, 3] / 255.0\n",
        "    alpha_bg = 1.0 - alpha_fg\n",
        "\n",
        "    for c in range(0, 3):\n",
        "        fg_bg[y1:y2, x1:x2, c] = (alpha_fg * fg[:, :, c] +\n",
        "                                  alpha_bg * bg[y1:y2, x1:x2, c])\n",
        "\n",
        "\n",
        "    cv2.imwrite(tgt_save,fg_bg)\n",
        "    \n",
        "    #arr = np.asarray(fg_bg)\n",
        "    #plt.imshow(arr, vmin=0, vmax=255)\n",
        "    #plt.show()\n",
        "    \n",
        "def overlay_mask(fg,bg,x_offset,y_offset,tgt_save):\n",
        "    fg_bg=bg.copy()\n",
        "    fg_bg[y_offset:y_offset+fg.shape[0], x_offset:x_offset+fg.shape[1]] = fg\n",
        "\n",
        "    cv2.imwrite(tgt_save,fg_bg)"
      ],
      "execution_count": 0,
      "outputs": []
    },
    {
      "cell_type": "code",
      "metadata": {
        "id": "64K18d9scXQ3",
        "colab_type": "code",
        "colab": {}
      },
      "source": [
        "tgt_path=\"/content/gdrive/My Drive/Mask_RCNN/fg_bg/\"\n",
        "mask_tgt_path=\"/content/gdrive/My Drive/Mask_RCNN/fg_bg_mask/\"\n",
        "bg_path=\"./Mask_RCNN/background/\"\n",
        "fg_path=\"./Mask_RCNN/Cars_Fg/\"\n",
        "mask_path=\"./Mask_RCNN/Cars_Mask/\"\n",
        "\n",
        "mask_bg = np.zeros((200,200), np.uint8)\n",
        "\n",
        "for i_bg in os.listdir(bg_path):\n",
        "    bg = cv2.imread(bg_path+i_bg)\n",
        "    bg_name=os.path.splitext(i_bg)[0]\n",
        "    \n",
        "    for i_fg in os.listdir(fg_path):\n",
        "        fg = cv2.imread(fg_path+i_fg, -1)\n",
        "        fg_name=os.path.splitext(i_fg)[0]\n",
        "        mask_fg = cv2.imread(mask_path+i_fg, -1)\n",
        "        fg_flip=cv2.flip(fg,1)\n",
        "        fg_flip_name=fg_name+'_flip'\n",
        "        mask_fg_flip=cv2.flip(mask_fg,1)\n",
        "        for i in range(1,21):\n",
        "            x_offset=randint(20,116)\n",
        "            y_offset=randint(20,132)\n",
        "            #fg on bg\n",
        "            tgt_save=tgt_path+bg_name+fg_name+'-'+str(i)+'.jpg'\n",
        "            overlay_fg_bg(fg,bg,x_offset,y_offset,tgt_save)\n",
        "            \n",
        "            #mask on black bg\n",
        "            tgt_save=mask_tgt_path+bg_name+fg_name+'-'+str(i)+'.jpg'\n",
        "            overlay_mask(mask_fg,mask_bg,x_offset,y_offset,tgt_save)\n",
        "\n",
        "            #LR Flipped fg on bg\n",
        "            tgt_save=tgt_path+bg_name+fg_flip_name+'-'+str(i)+'.jpg'\n",
        "            overlay_fg_bg(fg_flip,bg,x_offset,y_offset,tgt_save)\n",
        "            \n",
        "            #LR Flipped mask on black bg\n",
        "            tgt_save=mask_tgt_path+bg_name+fg_flip_name+'-'+str(i)+'.jpg'\n",
        "            overlay_mask(mask_fg_flip,mask_bg,x_offset,y_offset,tgt_save)"
      ],
      "execution_count": 0,
      "outputs": []
    },
    {
      "cell_type": "code",
      "metadata": {
        "id": "mxmRVk0_E_Xb",
        "colab_type": "code",
        "colab": {
          "base_uri": "https://localhost:8080/",
          "height": 52
        },
        "outputId": "689a2f25-3ffd-4bb0-d8e7-5be69dbb3df8"
      },
      "source": [
        "%%bash\n",
        "##Copy overlay fg_bg and mask images to Drive\n",
        "cp ./Mask_RCNN/fg_bg/* /content/gdrive/My\\ Drive/Mask_RCNN/fg_bg/\n",
        "cp ./Mask_RCNN/fg_bg_mask/* /content/gdrive/My\\ Drive/Mask_RCNN/fg_bg_mask/"
      ],
      "execution_count": 7,
      "outputs": [
        {
          "output_type": "stream",
          "text": [
            "bash: line 2: /bin/cp: Argument list too long\n",
            "bash: line 3: /bin/cp: Argument list too long\n"
          ],
          "name": "stderr"
        }
      ]
    },
    {
      "cell_type": "code",
      "metadata": {
        "id": "QgfADIWiX0gS",
        "colab_type": "code",
        "colab": {
          "base_uri": "https://localhost:8080/",
          "height": 34
        },
        "outputId": "4514c2fd-0a29-4da4-e76f-6a8c6104434b"
      },
      "source": [
        "##Copy overlay fg_bg and mask images to Drive\n",
        "!find  ./Mask_RCNN/fg_bg/ -name \"*.jpg\" -exec cp -uf \"{}\" /content/gdrive/My\\ Drive/Mask_RCNN/fg_bg/ \\;\n",
        "!find  ./Mask_RCNN/fg_bg_mask/ -name \"*.jpg\" -exec cp -uf \"{}\" /content/gdrive/My\\ Drive/Mask_RCNN/fg_bg_mask/ \\;"
      ],
      "execution_count": 9,
      "outputs": [
        {
          "output_type": "stream",
          "text": [
            "^C\n"
          ],
          "name": "stdout"
        }
      ]
    },
    {
      "cell_type": "code",
      "metadata": {
        "id": "hX_5L5KhYDW-",
        "colab_type": "code",
        "colab": {
          "base_uri": "https://localhost:8080/",
          "height": 34
        },
        "outputId": "6f023b3e-a0a3-4d44-aa98-57a56654b0f1"
      },
      "source": [
        "!find  ./Mask_RCNN/fg_bg_mask/ -name \"*.jpg\" -exec cp -uf \"{}\" /content/gdrive/My\\ Drive/Mask_RCNN/fg_bg_mask/ \\;"
      ],
      "execution_count": 10,
      "outputs": [
        {
          "output_type": "stream",
          "text": [
            "^C\n"
          ],
          "name": "stdout"
        }
      ]
    },
    {
      "cell_type": "code",
      "metadata": {
        "id": "HEg3-v5r9Z8e",
        "colab_type": "code",
        "colab": {}
      },
      "source": [
        ""
      ],
      "execution_count": 0,
      "outputs": []
    }
  ]
}